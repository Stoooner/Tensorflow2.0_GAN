{
 "cells": [
  {
   "cell_type": "markdown",
   "metadata": {},
   "source": [
    "# 课时21 SSGAN的代码实现"
   ]
  },
  {
   "cell_type": "code",
   "execution_count": 16,
   "metadata": {},
   "outputs": [
    {
     "data": {
      "text/plain": [
       "'1.13.1'"
      ]
     },
     "execution_count": 16,
     "metadata": {},
     "output_type": "execute_result"
    }
   ],
   "source": [
    "import tensorflow as tf\n",
    "import numpy as np\n",
    "import matplotlib.pyplot as plt\n",
    "tf.__version__"
   ]
  },
  {
   "cell_type": "markdown",
   "metadata": {},
   "source": [
    "## 1. 导入MNIST数据集"
   ]
  },
  {
   "cell_type": "code",
   "execution_count": 17,
   "metadata": {},
   "outputs": [
    {
     "name": "stdout",
     "output_type": "stream",
     "text": [
      "Extracting E:\\SoftWare_Installing\\Pycharm\\Pycharm WorkPlace\\GAN生成对抗网络入门与实战\\data\\MNIST\\train-images-idx3-ubyte.gz\n",
      "Extracting E:\\SoftWare_Installing\\Pycharm\\Pycharm WorkPlace\\GAN生成对抗网络入门与实战\\data\\MNIST\\train-labels-idx1-ubyte.gz\n",
      "Extracting E:\\SoftWare_Installing\\Pycharm\\Pycharm WorkPlace\\GAN生成对抗网络入门与实战\\data\\MNIST\\t10k-images-idx3-ubyte.gz\n",
      "Extracting E:\\SoftWare_Installing\\Pycharm\\Pycharm WorkPlace\\GAN生成对抗网络入门与实战\\data\\MNIST\\t10k-labels-idx1-ubyte.gz\n"
     ]
    }
   ],
   "source": [
    "from tensorflow.examples.tutorials.mnist import input_data\n",
    "mnist = input_data.read_data_sets('E:\\SoftWare_Installing\\Pycharm\\Pycharm WorkPlace\\GAN生成对抗网络入门与实战\\data\\MNIST', one_hot=True)"
   ]
  },
  {
   "cell_type": "markdown",
   "metadata": {},
   "source": [
    "## 2. 定义模型搭建需要的各个组件"
   ]
  },
  {
   "cell_type": "code",
   "execution_count": 18,
   "metadata": {},
   "outputs": [],
   "source": [
    "# 定义huber损失\n",
    "# huber损失与L2损失更加接近，但是这个损失对异常值更加不敏感，也就是对待异常值更健壮\n",
    "# huber损失是要添加到生成器的损失上面的，其主要作用是使得我们的生成器生成的图片具有更加多样性\n",
    "def huber_loss(labels, predictions, delta=1.0):\n",
    "    residual = tf.abs(predictions-labels)\n",
    "    condition = tf.less(residual, delta)\n",
    "    small_res = 0.5*tf.square(residual)\n",
    "    large_res = delta*residual - 0.5*tf.square(delta)\n",
    "    return tf.where(condition, small_res, large_res)"
   ]
  },
  {
   "cell_type": "code",
   "execution_count": 19,
   "metadata": {},
   "outputs": [],
   "source": [
    "# 定义生成器\n",
    "def generator(noise_img, is_train=True):\n",
    "    with tf.variable_scope(name_or_scope='generator', reuse=(not is_train)):\n",
    "        # 第一层为全连接层，将噪声数据的维度从100 x 1 ===> 4 x 4 x 512\n",
    "        layer_1 = tf.layers.dense(noise_img, 4*4*512)\n",
    "        layer_1 = tf.reshape(layer_1, [-1, 4, 4, 512])\n",
    "        # batch_normalization\n",
    "        layer_1 = tf.layers.batch_normalization(layer_1, training=is_train)\n",
    "        layer_1 = tf.nn.relu(layer_1)\n",
    "        # dropout\n",
    "        layer_1 = tf.nn.dropout(layer_1, keep_prob=0.8)\n",
    "        \n",
    "        # 4 x 4 x 512 ===> 7 x 7 x 256\n",
    "        layer_2 = tf.layers.conv2d_transpose(inputs=layer_1, filters=256, \n",
    "                                             kernel_size=4,\n",
    "                                             strides=1, padding='valid')\n",
    "        layer_2 = tf.layers.batch_normalization(layer_2, training=is_train)\n",
    "        layer_2 = tf.nn.relu(layer_2)\n",
    "        layer_2 = tf.nn.dropout(layer_2, keep_prob=0.8)\n",
    "        \n",
    "        # 7 x 7 x 256 ===> 14 x 14 x 128\n",
    "        layer_3 = tf.layers.conv2d_transpose(inputs=layer_2, filters=128, \n",
    "                                             kernel_size=3,\n",
    "                                             strides=2, padding='same')\n",
    "        layer_3 = tf.layers.batch_normalization(layer_3, training=is_train)\n",
    "        layer_3 = tf.nn.relu(layer_3)\n",
    "        layer_3 = tf.nn.dropout(layer_3, keep_prob=0.8)\n",
    "        \n",
    "        # 14 x 14 x 128 ===> 28 x 28 x 1\n",
    "        logits = tf.layers.conv2d_transpose(inputs=layer_3, filters=1,\n",
    "                                            kernel_size=3,\n",
    "                                            strides=2, padding='same')\n",
    "        outputs = tf.tanh(logits)\n",
    "        return outputs"
   ]
  },
  {
   "cell_type": "code",
   "execution_count": 20,
   "metadata": {},
   "outputs": [],
   "source": [
    "# 定义判别器\n",
    "def discriminator(inputs_img, reuse=False, alpha=0.2):\n",
    "    with tf.variable_scope(name_or_scope='discriminator', reuse=reuse):\n",
    "        # [28, 28, 1] ===> [14, 14, 128]\n",
    "        # 第一层不加BN\n",
    "        layer_1 = tf.layers.conv2d(inputs=inputs_img, filters=128, kernel_size=3,\n",
    "                                   strides=2, padding='same')\n",
    "        layer_1 = tf.maximum(alpha*layer_1, layer_1)\n",
    "        layer_1 = tf.nn.dropout(layer_1, keep_prob=0.8)\n",
    "        \n",
    "        # [14, 14, 128] ===> [7, 7, 256]\n",
    "        layer_2 = tf.layers.conv2d(inputs=layer_1, filters=256, kernel_size=3,\n",
    "                                   strides=2, padding='same')\n",
    "        layer_2 = tf.layers.batch_normalization(layer_2, training=True)\n",
    "        layer_2 = tf.maximum(alpha*layer_2, layer_2)\n",
    "        layer_2 = tf.nn.dropout(layer_2, keep_prob=0.8)\n",
    "        \n",
    "        # [7, 7, 256] ===> [4, 4, 512]\n",
    "        layer_3 = tf.layers.conv2d(inputs=layer_2, filters=512, kernel_size=3,\n",
    "                                   strides=2, padding='same')\n",
    "        layer_3 = tf.layers.batch_normalization(layer_3, training=True)\n",
    "        layer_3 = tf.maximum(alpha*layer_3, layer_3)\n",
    "        layer_3 = tf.nn.dropout(layer_3, keep_prob=0.8)\n",
    "        \n",
    "        # [4, 4, 512] ===> [4*4*512, 1]\n",
    "        flatten = tf.reshape(layer_3, (-1, 4*4*512))\n",
    "        # SSGAN中最后输出的是一个有着11类的类别向量\n",
    "        logits = tf.layers.dense(flatten, 11)\n",
    "        outputs = tf.nn.softmax(logits)\n",
    "        \n",
    "        return logits, outputs"
   ]
  },
  {
   "cell_type": "code",
   "execution_count": 21,
   "metadata": {},
   "outputs": [],
   "source": [
    "# 获取loss值\n",
    "def get_loss(inputs_real, inputs_noise, input_label_real, input_label_fake, smooth=0.1):\n",
    "    g_outputs = generator(inputs_noise, is_train=True)\n",
    "    d_logits_real, d_output_real = discriminator(inputs_real)\n",
    "    d_logits_fake, d_output_fake = discriminator(g_outputs, reuse=True)\n",
    "    \n",
    "    # 计算generator_loss值\n",
    "    # 由于我们希望g_loss尽可能小，也就是希望判别器对于生成器生成的数据g_outputs传入\n",
    "    # 到判别器之后得出的类别判断结果d_output_fake尽可能的出现在11个类别中的前面10个中，\n",
    "    # 因为前面判别器的结果出现在前面10个中的某一个的时候说明判别器将这个样本判别为了真实数据\n",
    "    # 因此对于生成器来说，它希望尽可能的欺骗到判别器，也就说它希望自己产生的样本送到判别器后\n",
    "    # 判别器将其判别为第11类d_output_fake[:, -1]的可能性tf.log(d_output_fake[:, -1])尽可能为0，\n",
    "    # 这样的话，生成器的损失tf.reduce_mean(tf.log(d_output_fake[:, -1]))就会尽可能的小了\n",
    "    g_loss = tf.reduce_mean(tf.log(d_output_fake[:, -1]))\n",
    "    # 增加huber_loss，增加生成样本的多样性，其中0.0001为系数，目的是希望huber_loss的影响不要太大\n",
    "    # 如果系数太大则代表是希望生成的图像和真实的图像尽可能一样，但是这不是我们想要看到的，我们希望的是有多样性\n",
    "    g_loss += tf.reduce_mean(huber_loss(inputs_real, g_outputs))*0.0001\n",
    "    \n",
    "    # 计算discrimidiscriminator_loss值\n",
    "    d_loss_real = tf.nn.softmax_cross_entropy_with_logits_v2(logits=d_logits_real, labels=input_label_real)\n",
    "    d_loss_fake = tf.nn.softmax_cross_entropy_with_logits_v2(logits=d_logits_fake, labels=input_label_fake)\n",
    "    d_loss = tf.reduce_mean(d_loss_real + d_loss_fake)\n",
    "    \n",
    "    return g_loss, d_loss"
   ]
  },
  {
   "cell_type": "code",
   "execution_count": 22,
   "metadata": {},
   "outputs": [],
   "source": [
    "# 设置优化器\n",
    "def get_optimizer(g_loss, d_loss, beta1=0.4, learning_rate=0.001):\n",
    "    train_vars = tf.trainable_variables()\n",
    "    g_vars = [var for var in train_vars if var.name.startswith('generator')]\n",
    "    d_vars = [var for var in train_vars if var.name.startswith('discriminator')]\n",
    "    \n",
    "    # optimizers\n",
    "    with tf.control_dependencies(tf.get_collection(tf.GraphKeys.UPDATE_OPS)):\n",
    "        # 这里加快了generator的学习速率\n",
    "        g_opt = tf.train.AdamOptimizer(learning_rate*5, beta1=beta1).minimize(g_loss, var_list=g_vars)\n",
    "        d_opt = tf.train.AdamOptimizer(learning_rate, beta1=beta1).minimize(d_loss, var_list=d_vars)\n",
    "    \n",
    "    return g_opt, d_opt"
   ]
  },
  {
   "cell_type": "code",
   "execution_count": 23,
   "metadata": {},
   "outputs": [],
   "source": [
    "# 单独创建一个绘图函数用于后面绘制每一步生成器产生的图像\n",
    "def plot_image(samples):\n",
    "    # 由于生成器采用的激活函数是[-1, 1]之间，为了能够更好的绘图\n",
    "    # 需要将其转换到[0, 1]之间，因此有下面一行的操作\n",
    "    samples = (samples + 1) / 2\n",
    "    fig, axes = plt.subplots(nrows=1, ncols=25, sharex=True, \n",
    "                             sharey=True, figsize=(50, 2))\n",
    "    for img, ax in zip(samples, axes):\n",
    "        ax.imshow(img.reshape((28, 28)), cmap='Greys_r')\n",
    "        ax.get_xaxis().set_visible(False)\n",
    "        ax.get_yaxis().set_visible(False)\n",
    "    fig.tight_layout(pad=0)"
   ]
  },
  {
   "cell_type": "code",
   "execution_count": 24,
   "metadata": {},
   "outputs": [],
   "source": [
    "# 展示生成器的生成结果\n",
    "def show_generator_output(sess, noise_image):\n",
    "    samples = sess.run(generator(noise_image, False))\n",
    "    return samples"
   ]
  },
  {
   "cell_type": "code",
   "execution_count": 25,
   "metadata": {},
   "outputs": [],
   "source": [
    "# 定义参数\n",
    "batch_sizes = 64\n",
    "noise_size = 100\n",
    "epochs = 50\n",
    "n_samples = 25\n",
    "learning_rate = 0.001\n",
    "beta1 = 0.6"
   ]
  },
  {
   "cell_type": "code",
   "execution_count": 26,
   "metadata": {},
   "outputs": [],
   "source": [
    "def train(noise_size, batch_size, n_samples):\n",
    "    # 存储loss\n",
    "    losses = []\n",
    "    step = 0\n",
    "    \n",
    "    inputs_real = tf.placeholder(tf.float32, [None, 28, 28, 1], name='inputs_real')\n",
    "    inputs_noise = tf.placeholder(tf.float32, [None, noise_size], name='inputs_noise')\n",
    "    inputs_label_real = tf.placeholder(tf.float32, [None, 11], name='inputs_label_real')\n",
    "    inputs_label_fake = tf.placeholder(tf.float32, [None, 11], name='inputs_label_real')\n",
    "    \n",
    "    g_loss, d_loss = get_loss(inputs_real, inputs_noise, inputs_label_real, inputs_label_fake)\n",
    "    g_train_opt, d_train_opt = get_optimizer(g_loss, d_loss, beta1, learning_rate)\n",
    "    \n",
    "    saver = tf.train.Saver()\n",
    "    with tf.Session() as sess:\n",
    "        sess.run(tf.global_variables_initializer())\n",
    "        for epoch in range(epochs):\n",
    "            for batch_i in range(mnist.train.num_examples // batch_size):\n",
    "                step += 1\n",
    "                batch_images_, batch_labels = mnist.train.next_batch(batch_size)\n",
    "                batch_images = batch_images_.reshape((batch_size, 28, 28, 1))\n",
    "                # [-1, 1]\n",
    "                batch_images = batch_images*2 - 1\n",
    "                \n",
    "                alpha = 0.9\n",
    "                \n",
    "                real_label = sess.run(tf.concat([batch_labels, \n",
    "                                                 tf.zeros([batch_size, 1])], axis=1))\n",
    "                fake_label = sess.run(tf.concat([(1-alpha)*tf.ones([batch_size, 10])/10,\n",
    "                                                 alpha*tf.ones([batch_size, 1])], axis=1))\n",
    "                \n",
    "                # noise\n",
    "                batch_noise = np.random.uniform(-1, 1, size=(batch_size, noise_size))\n",
    "                \n",
    "                # Run optimizers\n",
    "                _ = sess.run(g_train_opt, feed_dict={inputs_real:batch_images,\n",
    "                                                     inputs_noise:batch_noise,\n",
    "                                                     inputs_label_real: real_label,\n",
    "                                                     inputs_label_fake: fake_label})\n",
    "                _ = sess.run(d_train_opt, feed_dict={inputs_real:batch_images,\n",
    "                                                     inputs_noise:batch_noise,\n",
    "                                                     inputs_label_real: real_label,\n",
    "                                                     inputs_label_fake: fake_label})\n",
    "                \n",
    "                \n",
    "                if step % 5 == 0:\n",
    "                    train_loss_d = d_loss.eval({inputs_real:batch_images,\n",
    "                                                inputs_noise:batch_noise,\n",
    "                                                inputs_label_real: real_label,\n",
    "                                                inputs_label_fake: fake_label})\n",
    "                    train_loss_g = g_loss.eval({inputs_real:batch_images,\n",
    "                                                inputs_noise:batch_noise,\n",
    "                                                inputs_label_real: real_label,\n",
    "                                                inputs_label_fake: fake_label})\n",
    "                    losses.append((train_loss_d, train_loss_g))\n",
    "                    \n",
    "                    # 显示图片\n",
    "                    batch_noise = np.random.uniform(-1, 1, size=(10, noise_size))\n",
    "                    batch_noise = tf.cast(batch_noise, tf.float32)\n",
    "                    samples = show_generator_output(sess, batch_noise)\n",
    "                    plot_image(samples)\n",
    "                    \n",
    "                    print('Epoch is %i/%i'%(epoch+1, epochs),\n",
    "                          'Discriminator Loss is %.3f'%(train_loss_d),\n",
    "                          ', Generator Loss is %.3f'%(train_loss_g))\n",
    "        saver.save(sess, '../tf_saver_files/class_9_of_SSGAN/generator.ckpt')"
   ]
  },
  {
   "cell_type": "code",
   "execution_count": 27,
   "metadata": {},
   "outputs": [
    {
     "name": "stdout",
     "output_type": "stream",
     "text": [
      "WARNING:tensorflow:From <ipython-input-20-ff4d0ee6147d>:7: conv2d (from tensorflow.python.layers.convolutional) is deprecated and will be removed in a future version.\n",
      "Instructions for updating:\n",
      "Use keras.layers.conv2d instead.\n",
      "Epoch is 1/50 Discriminator Loss is 1.646 , Generator Loss is -0.371\n"
     ]
    },
    {
     "ename": "KeyboardInterrupt",
     "evalue": "",
     "output_type": "error",
     "traceback": [
      "\u001b[1;31m---------------------------------------------------------------------------\u001b[0m",
      "\u001b[1;31mKeyboardInterrupt\u001b[0m                         Traceback (most recent call last)",
      "\u001b[1;32m<ipython-input-27-833c18ddbbd6>\u001b[0m in \u001b[0;36m<module>\u001b[1;34m\u001b[0m\n\u001b[0;32m      1\u001b[0m \u001b[1;32mwith\u001b[0m \u001b[0mtf\u001b[0m\u001b[1;33m.\u001b[0m\u001b[0mGraph\u001b[0m\u001b[1;33m(\u001b[0m\u001b[1;33m)\u001b[0m\u001b[1;33m.\u001b[0m\u001b[0mas_default\u001b[0m\u001b[1;33m(\u001b[0m\u001b[1;33m)\u001b[0m\u001b[1;33m:\u001b[0m\u001b[1;33m\u001b[0m\u001b[1;33m\u001b[0m\u001b[0m\n\u001b[1;32m----> 2\u001b[1;33m     \u001b[0mtrain\u001b[0m\u001b[1;33m(\u001b[0m\u001b[0mnoise_size\u001b[0m\u001b[1;33m,\u001b[0m \u001b[0mbatch_sizes\u001b[0m\u001b[1;33m,\u001b[0m \u001b[0mn_samples\u001b[0m\u001b[1;33m)\u001b[0m\u001b[1;33m\u001b[0m\u001b[1;33m\u001b[0m\u001b[0m\n\u001b[0m",
      "\u001b[1;32m<ipython-input-26-27a7f68eea5d>\u001b[0m in \u001b[0;36mtrain\u001b[1;34m(noise_size, batch_size, n_samples)\u001b[0m\n\u001b[0;32m     37\u001b[0m                                                      \u001b[0minputs_noise\u001b[0m\u001b[1;33m:\u001b[0m\u001b[0mbatch_noise\u001b[0m\u001b[1;33m,\u001b[0m\u001b[1;33m\u001b[0m\u001b[1;33m\u001b[0m\u001b[0m\n\u001b[0;32m     38\u001b[0m                                                      \u001b[0minputs_label_real\u001b[0m\u001b[1;33m:\u001b[0m \u001b[0mreal_label\u001b[0m\u001b[1;33m,\u001b[0m\u001b[1;33m\u001b[0m\u001b[1;33m\u001b[0m\u001b[0m\n\u001b[1;32m---> 39\u001b[1;33m                                                      inputs_label_fake: fake_label})\n\u001b[0m\u001b[0;32m     40\u001b[0m                 _ = sess.run(d_train_opt, feed_dict={inputs_real:batch_images,\n\u001b[0;32m     41\u001b[0m                                                      \u001b[0minputs_noise\u001b[0m\u001b[1;33m:\u001b[0m\u001b[0mbatch_noise\u001b[0m\u001b[1;33m,\u001b[0m\u001b[1;33m\u001b[0m\u001b[1;33m\u001b[0m\u001b[0m\n",
      "\u001b[1;32mE:\\SoftWare_Installing\\Anaconda3\\envs\\python36\\lib\\site-packages\\tensorflow\\python\\client\\session.py\u001b[0m in \u001b[0;36mrun\u001b[1;34m(self, fetches, feed_dict, options, run_metadata)\u001b[0m\n\u001b[0;32m    927\u001b[0m     \u001b[1;32mtry\u001b[0m\u001b[1;33m:\u001b[0m\u001b[1;33m\u001b[0m\u001b[1;33m\u001b[0m\u001b[0m\n\u001b[0;32m    928\u001b[0m       result = self._run(None, fetches, feed_dict, options_ptr,\n\u001b[1;32m--> 929\u001b[1;33m                          run_metadata_ptr)\n\u001b[0m\u001b[0;32m    930\u001b[0m       \u001b[1;32mif\u001b[0m \u001b[0mrun_metadata\u001b[0m\u001b[1;33m:\u001b[0m\u001b[1;33m\u001b[0m\u001b[1;33m\u001b[0m\u001b[0m\n\u001b[0;32m    931\u001b[0m         \u001b[0mproto_data\u001b[0m \u001b[1;33m=\u001b[0m \u001b[0mtf_session\u001b[0m\u001b[1;33m.\u001b[0m\u001b[0mTF_GetBuffer\u001b[0m\u001b[1;33m(\u001b[0m\u001b[0mrun_metadata_ptr\u001b[0m\u001b[1;33m)\u001b[0m\u001b[1;33m\u001b[0m\u001b[1;33m\u001b[0m\u001b[0m\n",
      "\u001b[1;32mE:\\SoftWare_Installing\\Anaconda3\\envs\\python36\\lib\\site-packages\\tensorflow\\python\\client\\session.py\u001b[0m in \u001b[0;36m_run\u001b[1;34m(self, handle, fetches, feed_dict, options, run_metadata)\u001b[0m\n\u001b[0;32m   1150\u001b[0m     \u001b[1;32mif\u001b[0m \u001b[0mfinal_fetches\u001b[0m \u001b[1;32mor\u001b[0m \u001b[0mfinal_targets\u001b[0m \u001b[1;32mor\u001b[0m \u001b[1;33m(\u001b[0m\u001b[0mhandle\u001b[0m \u001b[1;32mand\u001b[0m \u001b[0mfeed_dict_tensor\u001b[0m\u001b[1;33m)\u001b[0m\u001b[1;33m:\u001b[0m\u001b[1;33m\u001b[0m\u001b[1;33m\u001b[0m\u001b[0m\n\u001b[0;32m   1151\u001b[0m       results = self._do_run(handle, final_targets, final_fetches,\n\u001b[1;32m-> 1152\u001b[1;33m                              feed_dict_tensor, options, run_metadata)\n\u001b[0m\u001b[0;32m   1153\u001b[0m     \u001b[1;32melse\u001b[0m\u001b[1;33m:\u001b[0m\u001b[1;33m\u001b[0m\u001b[1;33m\u001b[0m\u001b[0m\n\u001b[0;32m   1154\u001b[0m       \u001b[0mresults\u001b[0m \u001b[1;33m=\u001b[0m \u001b[1;33m[\u001b[0m\u001b[1;33m]\u001b[0m\u001b[1;33m\u001b[0m\u001b[1;33m\u001b[0m\u001b[0m\n",
      "\u001b[1;32mE:\\SoftWare_Installing\\Anaconda3\\envs\\python36\\lib\\site-packages\\tensorflow\\python\\client\\session.py\u001b[0m in \u001b[0;36m_do_run\u001b[1;34m(self, handle, target_list, fetch_list, feed_dict, options, run_metadata)\u001b[0m\n\u001b[0;32m   1326\u001b[0m     \u001b[1;32mif\u001b[0m \u001b[0mhandle\u001b[0m \u001b[1;32mis\u001b[0m \u001b[1;32mNone\u001b[0m\u001b[1;33m:\u001b[0m\u001b[1;33m\u001b[0m\u001b[1;33m\u001b[0m\u001b[0m\n\u001b[0;32m   1327\u001b[0m       return self._do_call(_run_fn, feeds, fetches, targets, options,\n\u001b[1;32m-> 1328\u001b[1;33m                            run_metadata)\n\u001b[0m\u001b[0;32m   1329\u001b[0m     \u001b[1;32melse\u001b[0m\u001b[1;33m:\u001b[0m\u001b[1;33m\u001b[0m\u001b[1;33m\u001b[0m\u001b[0m\n\u001b[0;32m   1330\u001b[0m       \u001b[1;32mreturn\u001b[0m \u001b[0mself\u001b[0m\u001b[1;33m.\u001b[0m\u001b[0m_do_call\u001b[0m\u001b[1;33m(\u001b[0m\u001b[0m_prun_fn\u001b[0m\u001b[1;33m,\u001b[0m \u001b[0mhandle\u001b[0m\u001b[1;33m,\u001b[0m \u001b[0mfeeds\u001b[0m\u001b[1;33m,\u001b[0m \u001b[0mfetches\u001b[0m\u001b[1;33m)\u001b[0m\u001b[1;33m\u001b[0m\u001b[1;33m\u001b[0m\u001b[0m\n",
      "\u001b[1;32mE:\\SoftWare_Installing\\Anaconda3\\envs\\python36\\lib\\site-packages\\tensorflow\\python\\client\\session.py\u001b[0m in \u001b[0;36m_do_call\u001b[1;34m(self, fn, *args)\u001b[0m\n\u001b[0;32m   1332\u001b[0m   \u001b[1;32mdef\u001b[0m \u001b[0m_do_call\u001b[0m\u001b[1;33m(\u001b[0m\u001b[0mself\u001b[0m\u001b[1;33m,\u001b[0m \u001b[0mfn\u001b[0m\u001b[1;33m,\u001b[0m \u001b[1;33m*\u001b[0m\u001b[0margs\u001b[0m\u001b[1;33m)\u001b[0m\u001b[1;33m:\u001b[0m\u001b[1;33m\u001b[0m\u001b[1;33m\u001b[0m\u001b[0m\n\u001b[0;32m   1333\u001b[0m     \u001b[1;32mtry\u001b[0m\u001b[1;33m:\u001b[0m\u001b[1;33m\u001b[0m\u001b[1;33m\u001b[0m\u001b[0m\n\u001b[1;32m-> 1334\u001b[1;33m       \u001b[1;32mreturn\u001b[0m \u001b[0mfn\u001b[0m\u001b[1;33m(\u001b[0m\u001b[1;33m*\u001b[0m\u001b[0margs\u001b[0m\u001b[1;33m)\u001b[0m\u001b[1;33m\u001b[0m\u001b[1;33m\u001b[0m\u001b[0m\n\u001b[0m\u001b[0;32m   1335\u001b[0m     \u001b[1;32mexcept\u001b[0m \u001b[0merrors\u001b[0m\u001b[1;33m.\u001b[0m\u001b[0mOpError\u001b[0m \u001b[1;32mas\u001b[0m \u001b[0me\u001b[0m\u001b[1;33m:\u001b[0m\u001b[1;33m\u001b[0m\u001b[1;33m\u001b[0m\u001b[0m\n\u001b[0;32m   1336\u001b[0m       \u001b[0mmessage\u001b[0m \u001b[1;33m=\u001b[0m \u001b[0mcompat\u001b[0m\u001b[1;33m.\u001b[0m\u001b[0mas_text\u001b[0m\u001b[1;33m(\u001b[0m\u001b[0me\u001b[0m\u001b[1;33m.\u001b[0m\u001b[0mmessage\u001b[0m\u001b[1;33m)\u001b[0m\u001b[1;33m\u001b[0m\u001b[1;33m\u001b[0m\u001b[0m\n",
      "\u001b[1;32mE:\\SoftWare_Installing\\Anaconda3\\envs\\python36\\lib\\site-packages\\tensorflow\\python\\client\\session.py\u001b[0m in \u001b[0;36m_run_fn\u001b[1;34m(feed_dict, fetch_list, target_list, options, run_metadata)\u001b[0m\n\u001b[0;32m   1317\u001b[0m       \u001b[0mself\u001b[0m\u001b[1;33m.\u001b[0m\u001b[0m_extend_graph\u001b[0m\u001b[1;33m(\u001b[0m\u001b[1;33m)\u001b[0m\u001b[1;33m\u001b[0m\u001b[1;33m\u001b[0m\u001b[0m\n\u001b[0;32m   1318\u001b[0m       return self._call_tf_sessionrun(\n\u001b[1;32m-> 1319\u001b[1;33m           options, feed_dict, fetch_list, target_list, run_metadata)\n\u001b[0m\u001b[0;32m   1320\u001b[0m \u001b[1;33m\u001b[0m\u001b[0m\n\u001b[0;32m   1321\u001b[0m     \u001b[1;32mdef\u001b[0m \u001b[0m_prun_fn\u001b[0m\u001b[1;33m(\u001b[0m\u001b[0mhandle\u001b[0m\u001b[1;33m,\u001b[0m \u001b[0mfeed_dict\u001b[0m\u001b[1;33m,\u001b[0m \u001b[0mfetch_list\u001b[0m\u001b[1;33m)\u001b[0m\u001b[1;33m:\u001b[0m\u001b[1;33m\u001b[0m\u001b[1;33m\u001b[0m\u001b[0m\n",
      "\u001b[1;32mE:\\SoftWare_Installing\\Anaconda3\\envs\\python36\\lib\\site-packages\\tensorflow\\python\\client\\session.py\u001b[0m in \u001b[0;36m_call_tf_sessionrun\u001b[1;34m(self, options, feed_dict, fetch_list, target_list, run_metadata)\u001b[0m\n\u001b[0;32m   1405\u001b[0m     return tf_session.TF_SessionRun_wrapper(\n\u001b[0;32m   1406\u001b[0m         \u001b[0mself\u001b[0m\u001b[1;33m.\u001b[0m\u001b[0m_session\u001b[0m\u001b[1;33m,\u001b[0m \u001b[0moptions\u001b[0m\u001b[1;33m,\u001b[0m \u001b[0mfeed_dict\u001b[0m\u001b[1;33m,\u001b[0m \u001b[0mfetch_list\u001b[0m\u001b[1;33m,\u001b[0m \u001b[0mtarget_list\u001b[0m\u001b[1;33m,\u001b[0m\u001b[1;33m\u001b[0m\u001b[1;33m\u001b[0m\u001b[0m\n\u001b[1;32m-> 1407\u001b[1;33m         run_metadata)\n\u001b[0m\u001b[0;32m   1408\u001b[0m \u001b[1;33m\u001b[0m\u001b[0m\n\u001b[0;32m   1409\u001b[0m   \u001b[1;32mdef\u001b[0m \u001b[0m_call_tf_sessionprun\u001b[0m\u001b[1;33m(\u001b[0m\u001b[0mself\u001b[0m\u001b[1;33m,\u001b[0m \u001b[0mhandle\u001b[0m\u001b[1;33m,\u001b[0m \u001b[0mfeed_dict\u001b[0m\u001b[1;33m,\u001b[0m \u001b[0mfetch_list\u001b[0m\u001b[1;33m)\u001b[0m\u001b[1;33m:\u001b[0m\u001b[1;33m\u001b[0m\u001b[1;33m\u001b[0m\u001b[0m\n",
      "\u001b[1;31mKeyboardInterrupt\u001b[0m: "
     ]
    },
    {
     "data": {
      "image/png": "[encoded data removed]",
      "text/plain": [
       "<Figure size 3600x144 with 25 Axes>"
      ]
     },
     "metadata": {
      "needs_background": "light"
     },
     "output_type": "display_data"
    }
   ],
   "source": [
    "with tf.Graph().as_default():\n",
    "    train(noise_size, batch_sizes, n_samples)"
   ]
  }
 ],
 "metadata": {
  "kernelspec": {
   "display_name": "python36",
   "language": "python",
   "name": "python36"
  },
  "language_info": {
   "codemirror_mode": {
    "name": "ipython",
    "version": 3
   },
   "file_extension": ".py",
   "mimetype": "text/x-python",
   "name": "python",
   "nbconvert_exporter": "python",
   "pygments_lexer": "ipython3",
   "version": "3.6.10"
  }
 },
 "nbformat": 4,
 "nbformat_minor": 2
}
