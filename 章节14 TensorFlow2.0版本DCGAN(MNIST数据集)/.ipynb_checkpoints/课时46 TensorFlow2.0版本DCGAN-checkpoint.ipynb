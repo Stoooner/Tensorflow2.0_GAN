{
 "cells": [
  {
   "cell_type": "markdown",
   "metadata": {},
   "source": [
    "## 课时46 TensorFlow2.0版本DCGAN"
   ]
  },
  {
   "cell_type": "code",
   "execution_count": 52,
   "metadata": {},
   "outputs": [
    {
     "data": {
      "text/plain": [
       "'2.1.0'"
      ]
     },
     "execution_count": 52,
     "metadata": {},
     "output_type": "execute_result"
    }
   ],
   "source": [
    "import tensorflow as tf\n",
    "from tensorflow import keras\n",
    "from tensorflow.keras import layers\n",
    "import matplotlib.pyplot as plt\n",
    "import numpy as np\n",
    "import glob\n",
    "import os\n",
    "tf.__version__"
   ]
  },
  {
   "cell_type": "markdown",
   "metadata": {},
   "source": [
    "## 1. 数据预处理"
   ]
  },
  {
   "cell_type": "code",
   "execution_count": 53,
   "metadata": {},
   "outputs": [
    {
     "data": {
      "text/plain": [
       "<BatchDataset shapes: (None, 28, 28, 1), types: tf.float32>"
      ]
     },
     "execution_count": 53,
     "metadata": {},
     "output_type": "execute_result"
    }
   ],
   "source": [
    "# 导入MNIST数据集\n",
    "(train_images, train_labels),(_,_) = tf.keras.datasets.mnist.load_data()\n",
    "# 查看数据的shape和dtype\n",
    "# print(train_images.shape)\n",
    "# print(train_images.dtype)\n",
    "# 将数据转换为float32类型，并添加上数据的channel\n",
    "train_images = train_images.reshape(train_images.shape[0], 28, 28, 1).astype('float32')\n",
    "# 将数据的数值进行归一化, Normalize the images to [-1, 1]\n",
    "train_images = (train_images - 127.5) / 127.5\n",
    "\n",
    "# 将数据转换为dataset\n",
    "BATCH_SIZE = 256\n",
    "BUFFER_SIZE = 60000\n",
    "train_dataset = tf.data.Dataset.from_tensor_slices(train_images)\n",
    "# 对训练数据进行打乱操作\n",
    "train_dataset = train_dataset.shuffle(BUFFER_SIZE).batch(BATCH_SIZE)\n",
    "train_dataset"
   ]
  },
  {
   "cell_type": "markdown",
   "metadata": {},
   "source": [
    "## 2. 创建生成器和判别器"
   ]
  },
  {
   "cell_type": "code",
   "execution_count": 71,
   "metadata": {},
   "outputs": [],
   "source": [
    "def generator_model():\n",
    "    model = tf.keras.Sequential([\n",
    "        # 由于generator最开始接收的是一个[1, 100]维度的向量，因此需要使用Dense网络将其转换成图像才可以使用反卷积\n",
    "        # 7*7*256仅仅是我们自己设定的一个值而已\n",
    "        tf.keras.layers.Dense(units=7*7*256, input_shape=(100,), use_bias=False),\n",
    "        tf.keras.layers.BatchNormalization(),\n",
    "        tf.keras.layers.LeakyReLU(),\n",
    "        \n",
    "        # 开始使用反卷积进行图像生成\n",
    "        tf.keras.layers.Reshape((7, 7, 256)), # [7, 7, 256]\n",
    "        # 注意：这里的反卷积的strides并没有设置为2以进行图像扩大，而是先设置为1，让256通道的信息整合到128通道中\n",
    "        tf.keras.layers.Conv2DTranspose(filters=128, kernel_size=(5, 5), strides=(1, 1), \n",
    "                                        padding='same', use_bias=False),\n",
    "        tf.keras.layers.BatchNormalization(),\n",
    "        tf.keras.layers.LeakyReLU(), # [7, 7, 128]\n",
    "        \n",
    "        tf.keras.layers.Conv2DTranspose(filters=64, kernel_size=(5, 5), strides=(2, 2), \n",
    "                                        padding='same', use_bias=False),\n",
    "        tf.keras.layers.BatchNormalization(),\n",
    "        tf.keras.layers.LeakyReLU(), # [14, 14, 128]\n",
    "        \n",
    "        # [28, 28, 1]\n",
    "        tf.keras.layers.Conv2DTranspose(filters=1, kernel_size=(5, 5), strides=(2, 2), \n",
    "                                        padding='same', use_bias=False, activation='tanh')])\n",
    "    \n",
    "    return model\n",
    "\n",
    "def discriminator_model():\n",
    "    model = tf.keras.Sequential([\n",
    "        tf.keras.layers.Conv2D(filters=64, kernel_size=(5, 5), strides=(2, 2), \n",
    "                               padding='same', input_shape=(28, 28, 1)),\n",
    "        tf.keras.layers.LeakyReLU(),\n",
    "        tf.keras.layers.Dropout(rate=0.3),\n",
    "        \n",
    "        tf.keras.layers.Conv2D(filters=128, kernel_size=(5, 5), strides=(2, 2), padding='same'),\n",
    "        tf.keras.layers.LeakyReLU(),\n",
    "        tf.keras.layers.Dropout(rate=0.3),\n",
    "        \n",
    "        tf.keras.layers.Conv2D(filters=256, kernel_size=(5, 5), strides=(2, 2), padding='same'),\n",
    "        tf.keras.layers.LeakyReLU(),\n",
    "        \n",
    "        tf.keras.layers.Flatten(),\n",
    "        tf.keras.layers.Dense(units=1)])\n",
    "    \n",
    "    return model"
   ]
  },
  {
   "cell_type": "markdown",
   "metadata": {},
   "source": [
    "## 3. 定义loss函数和优化器"
   ]
  },
  {
   "cell_type": "code",
   "execution_count": 72,
   "metadata": {},
   "outputs": [],
   "source": [
    "# 定义损失函数\n",
    "Cross_Entropy = tf.keras.losses.BinaryCrossentropy(from_logits=True)"
   ]
  },
  {
   "cell_type": "code",
   "execution_count": 73,
   "metadata": {},
   "outputs": [],
   "source": [
    "def discriminator_loss(real_image_logits, fake_image_logits):\n",
    "    real_image_loss = Cross_Entropy(y_true=tf.ones_like(real_image_logits), y_pred=real_image_logits)\n",
    "    fake_image_loss = Cross_Entropy(y_true=tf.zeros_like(fake_image_logits), y_pred=fake_image_logits)\n",
    "    discriminator_loss_ = real_image_loss + fake_image_loss\n",
    "    return discriminator_loss_"
   ]
  },
  {
   "cell_type": "code",
   "execution_count": 74,
   "metadata": {},
   "outputs": [],
   "source": [
    "def generator_loss(fake_image_logits):\n",
    "    generator_loss_ = Cross_Entropy(y_true=tf.ones_like(fake_image_logits), y_pred=fake_image_logits)\n",
    "    return generator_loss_"
   ]
  },
  {
   "cell_type": "code",
   "execution_count": 75,
   "metadata": {},
   "outputs": [],
   "source": [
    "# 定义生成器和判别器的优化器\n",
    "generator_optimizer = tf.keras.optimizers.Adam(learning_rate=1e-4)\n",
    "discriminator_optimizer = tf.keras.optimizers.Adam(learning_rate=1e-4)"
   ]
  },
  {
   "cell_type": "code",
   "execution_count": 76,
   "metadata": {},
   "outputs": [],
   "source": [
    "# 定义相关的参数\n",
    "EPOCHS = 100\n",
    "noise_dim = 100\n",
    "num_examples_to_generate = 16\n",
    "# 这个seed是用于模型训练一定步数的时候，用户用于显示模型训练效果的noise数据，每次展示的时候展示16个图像\n",
    "seed = tf.random.normal([num_examples_to_generate, noise_dim])"
   ]
  },
  {
   "cell_type": "code",
   "execution_count": 77,
   "metadata": {},
   "outputs": [],
   "source": [
    "# # 定义模型参数梯度更新函数\n",
    "# # 首先获取到生成器函数和判别器函数对应的模型\n",
    "generator = generator_model()\n",
    "discriminator = discriminator_model()"
   ]
  },
  {
   "cell_type": "code",
   "execution_count": 78,
   "metadata": {},
   "outputs": [],
   "source": [
    "# 定义梯度更新函数\n",
    "@tf.function\n",
    "def train_step(real_images):\n",
    "    # 定义noise，便于输入到生成器\n",
    "    noise = tf.random.normal([BATCH_SIZE, noise_dim])\n",
    "    # 定义梯度磁带，这里有两个模型需要记录\n",
    "    with tf.GradientTape() as generator_tape, tf.GradientTape() as discriminator_tape:\n",
    "        # 在TensorFlow2.0中，model的training参数默认就是True\n",
    "        generated_images = generator(noise, training=True)\n",
    "        \n",
    "        real_image_logits = discriminator(real_images, training=True)\n",
    "        fake_image_logits = discriminator(generated_images, training=True)\n",
    "        \n",
    "        generator_loss_ = generator_loss(fake_image_logits)\n",
    "        discriminator_loss_ = discriminator_loss(real_image_logits, fake_image_logits)\n",
    "        \n",
    "    # 利用loss和tape获取生成器和判别器的梯度\n",
    "    generator_gradients = generator_tape.gradient(generator_loss_, generator.trainable_variables)\n",
    "    discriminator_gradients = discriminator_tape.gradient(discriminator_loss_, discriminator.trainable_variables)\n",
    "    \n",
    "    # 利用获取到的梯度，让优化器应用到变量上面\n",
    "    generator_optimizer.apply_gradients(zip(generator_gradients, generator.trainable_variables))\n",
    "    discriminator_optimizer.apply_gradients(zip(discriminator_gradients, discriminator.trainable_variables))"
   ]
  },
  {
   "cell_type": "markdown",
   "metadata": {},
   "source": [
    "## 4. 定义辅助函数用于画图"
   ]
  },
  {
   "cell_type": "code",
   "execution_count": 79,
   "metadata": {},
   "outputs": [],
   "source": [
    "def generate_and_save_images(model, epoch, test_noise):\n",
    "    generated_images = generator(test_noise, training=False)\n",
    "    fig = plt.figure(figsize=(4, 4))\n",
    "\n",
    "    for i in range(predictions.shape[0]):\n",
    "        plt.subplot(4, 4, i+1)\n",
    "        plt.imshow((predictions[i, :, :, 0] + 1)/2, cmap='gray')\n",
    "        plt.axis('off')\n",
    "\n",
    "    plt.savefig('image_at_epoch_{:04d}.png'.format(epoch))\n",
    "    plt.show()"
   ]
  },
  {
   "cell_type": "markdown",
   "metadata": {},
   "source": [
    "## 5. 定义训练函数"
   ]
  },
  {
   "cell_type": "code",
   "execution_count": 80,
   "metadata": {},
   "outputs": [],
   "source": [
    "def train(dataset, epochs):\n",
    "    for epoch in range(epochs):\n",
    "        for image_batch in dataset:\n",
    "            train_step(image_batch)\n",
    "            print('.', end='')\n",
    "        print()\n",
    "        generate_and_save_images(generator, epoch + 1, seed)\n",
    "    generate_and_save_images(generator, epochs, seed)"
   ]
  },
  {
   "cell_type": "code",
   "execution_count": 82,
   "metadata": {},
   "outputs": [],
   "source": [
    "train(train_dataset, EPOCHS)"
   ]
  }
 ],
 "metadata": {
  "kernelspec": {
   "display_name": "Python 3",
   "language": "python",
   "name": "python3"
  },
  "language_info": {
   "codemirror_mode": {
    "name": "ipython",
    "version": 3
   },
   "file_extension": ".py",
   "mimetype": "text/x-python",
   "name": "python",
   "nbconvert_exporter": "python",
   "pygments_lexer": "ipython3",
   "version": "3.7.6"
  }
 },
 "nbformat": 4,
 "nbformat_minor": 2
}
