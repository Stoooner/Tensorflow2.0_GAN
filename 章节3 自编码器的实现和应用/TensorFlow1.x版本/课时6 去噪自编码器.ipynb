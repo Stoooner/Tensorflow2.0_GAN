{
 "cells": [
  {
   "cell_type": "markdown",
   "metadata": {},
   "source": [
    "# 课时6 去噪自编码器"
   ]
  },
  {
   "cell_type": "code",
   "execution_count": 2,
   "metadata": {},
   "outputs": [
    {
     "data": {
      "text/plain": [
       "'1.13.1'"
      ]
     },
     "execution_count": 2,
     "metadata": {},
     "output_type": "execute_result"
    }
   ],
   "source": [
    "import tensorflow as tf\n",
    "import numpy as np\n",
    "import matplotlib.pyplot as plt\n",
    "tf.__version__"
   ]
  },
  {
   "cell_type": "markdown",
   "metadata": {},
   "source": [
    "## 1. 导入MNIST数据集"
   ]
  },
  {
   "cell_type": "code",
   "execution_count": 3,
   "metadata": {},
   "outputs": [
    {
     "name": "stdout",
     "output_type": "stream",
     "text": [
      "WARNING:tensorflow:From <ipython-input-3-a5ee3e96278b>:2: read_data_sets (from tensorflow.contrib.learn.python.learn.datasets.mnist) is deprecated and will be removed in a future version.\n",
      "Instructions for updating:\n",
      "Please use alternatives such as official/mnist/dataset.py from tensorflow/models.\n",
      "WARNING:tensorflow:From E:\\SoftWare_Installing\\Anaconda3\\envs\\python36\\lib\\site-packages\\tensorflow\\contrib\\learn\\python\\learn\\datasets\\mnist.py:260: maybe_download (from tensorflow.contrib.learn.python.learn.datasets.base) is deprecated and will be removed in a future version.\n",
      "Instructions for updating:\n",
      "Please write your own downloading logic.\n",
      "WARNING:tensorflow:From E:\\SoftWare_Installing\\Anaconda3\\envs\\python36\\lib\\site-packages\\tensorflow\\contrib\\learn\\python\\learn\\datasets\\mnist.py:262: extract_images (from tensorflow.contrib.learn.python.learn.datasets.mnist) is deprecated and will be removed in a future version.\n",
      "Instructions for updating:\n",
      "Please use tf.data to implement this functionality.\n",
      "Extracting E:\\SoftWare_Installing\\Pycharm\\Pycharm WorkPlace\\GAN生成对抗网络入门与实战\\data\\MNIST\\train-images-idx3-ubyte.gz\n",
      "WARNING:tensorflow:From E:\\SoftWare_Installing\\Anaconda3\\envs\\python36\\lib\\site-packages\\tensorflow\\contrib\\learn\\python\\learn\\datasets\\mnist.py:267: extract_labels (from tensorflow.contrib.learn.python.learn.datasets.mnist) is deprecated and will be removed in a future version.\n",
      "Instructions for updating:\n",
      "Please use tf.data to implement this functionality.\n",
      "Extracting E:\\SoftWare_Installing\\Pycharm\\Pycharm WorkPlace\\GAN生成对抗网络入门与实战\\data\\MNIST\\train-labels-idx1-ubyte.gz\n",
      "Extracting E:\\SoftWare_Installing\\Pycharm\\Pycharm WorkPlace\\GAN生成对抗网络入门与实战\\data\\MNIST\\t10k-images-idx3-ubyte.gz\n",
      "Extracting E:\\SoftWare_Installing\\Pycharm\\Pycharm WorkPlace\\GAN生成对抗网络入门与实战\\data\\MNIST\\t10k-labels-idx1-ubyte.gz\n",
      "WARNING:tensorflow:From E:\\SoftWare_Installing\\Anaconda3\\envs\\python36\\lib\\site-packages\\tensorflow\\contrib\\learn\\python\\learn\\datasets\\mnist.py:290: DataSet.__init__ (from tensorflow.contrib.learn.python.learn.datasets.mnist) is deprecated and will be removed in a future version.\n",
      "Instructions for updating:\n",
      "Please use alternatives such as official/mnist/dataset.py from tensorflow/models.\n"
     ]
    }
   ],
   "source": [
    "from tensorflow.examples.tutorials.mnist import input_data\n",
    "mnist = input_data.read_data_sets('E:\\SoftWare_Installing\\Pycharm\\Pycharm WorkPlace\\GAN生成对抗网络入门与实战\\data\\MNIST', one_hot=False)"
   ]
  },
  {
   "cell_type": "code",
   "execution_count": 6,
   "metadata": {},
   "outputs": [
    {
     "data": {
      "text/plain": [
       "<matplotlib.image.AxesImage at 0x1b7e9738eb8>"
      ]
     },
     "execution_count": 6,
     "metadata": {},
     "output_type": "execute_result"
    },
    {
     "data": {
      "image/png": "[encoded data removed]",
      "text/plain": [
       "<Figure size 432x288 with 1 Axes>"
      ]
     },
     "metadata": {
      "needs_background": "light"
     },
     "output_type": "display_data"
    }
   ],
   "source": [
    "# 选取其中的一张图片进行展示\n",
    "img = mnist.train.images[18]\n",
    "plt.imshow(img.reshape((28,28)))"
   ]
  },
  {
   "cell_type": "code",
   "execution_count": 10,
   "metadata": {},
   "outputs": [
    {
     "data": {
      "text/plain": [
       "(55000, 784)"
      ]
     },
     "execution_count": 10,
     "metadata": {},
     "output_type": "execute_result"
    }
   ],
   "source": [
    "mnist.train.images.shape"
   ]
  },
  {
   "cell_type": "code",
   "execution_count": 11,
   "metadata": {},
   "outputs": [],
   "source": [
    "# 定义自编码器中间的压缩层的神经元个数\n",
    "hidden_units = 64\n",
    "input_units = mnist.train.images.shape[1]"
   ]
  },
  {
   "cell_type": "code",
   "execution_count": 12,
   "metadata": {},
   "outputs": [],
   "source": [
    "inputs = tf.placeholder(dtype=tf.float32, shape=[None, input_units], name='inputs')\n",
    "targets = tf.placeholder(dtype=tf.float32, shape=[None, input_units], name='targets')"
   ]
  },
  {
   "cell_type": "code",
   "execution_count": 13,
   "metadata": {},
   "outputs": [
    {
     "name": "stdout",
     "output_type": "stream",
     "text": [
      "WARNING:tensorflow:From <ipython-input-13-60e7da2fa645>:1: dense (from tensorflow.python.layers.core) is deprecated and will be removed in a future version.\n",
      "Instructions for updating:\n",
      "Use keras.layers.dense instead.\n",
      "WARNING:tensorflow:From E:\\SoftWare_Installing\\Anaconda3\\envs\\python36\\lib\\site-packages\\tensorflow\\python\\framework\\op_def_library.py:263: colocate_with (from tensorflow.python.framework.ops) is deprecated and will be removed in a future version.\n",
      "Instructions for updating:\n",
      "Colocations handled automatically by placer.\n"
     ]
    }
   ],
   "source": [
    "hidden = tf.layers.dense(inputs=inputs, units=hidden_units, activation=tf.nn.relu)"
   ]
  },
  {
   "cell_type": "code",
   "execution_count": 14,
   "metadata": {},
   "outputs": [],
   "source": [
    "logits = tf.layers.dense(inputs=hidden, units=input_units, activation=None)\n",
    "outputs = tf.sigmoid(logits, name='outputs')"
   ]
  },
  {
   "cell_type": "code",
   "execution_count": 15,
   "metadata": {},
   "outputs": [],
   "source": [
    "loss = tf.reduce_sum(tf.square(outputs - inputs))"
   ]
  },
  {
   "cell_type": "code",
   "execution_count": 16,
   "metadata": {},
   "outputs": [],
   "source": [
    "optimizer = tf.train.AdamOptimizer(learning_rate=0.01).minimize(loss)"
   ]
  },
  {
   "cell_type": "code",
   "execution_count": 17,
   "metadata": {},
   "outputs": [],
   "source": [
    "sess = tf.Session()\n",
    "sess.run(tf.global_variables_initializer())"
   ]
  },
  {
   "cell_type": "code",
   "execution_count": 18,
   "metadata": {},
   "outputs": [],
   "source": [
    "epochs = 50\n",
    "batch_size = 128\n",
    "scale = 0.6"
   ]
  },
  {
   "cell_type": "code",
   "execution_count": 19,
   "metadata": {},
   "outputs": [
    {
     "name": "stdout",
     "output_type": "stream",
     "text": [
      "Epoch is 1 Training Loss is 38183.711\n",
      "Epoch is 2 Training Loss is 36980.932\n",
      "Epoch is 3 Training Loss is 36952.775\n",
      "Epoch is 4 Training Loss is 36915.355\n",
      "Epoch is 5 Training Loss is 36913.262\n",
      "Epoch is 6 Training Loss is 36908.275\n",
      "Epoch is 7 Training Loss is 36873.567\n",
      "Epoch is 8 Training Loss is 36898.608\n",
      "Epoch is 9 Training Loss is 36891.041\n",
      "Epoch is 10 Training Loss is 36891.821\n",
      "Epoch is 11 Training Loss is 36867.010\n",
      "Epoch is 12 Training Loss is 36877.101\n",
      "Epoch is 13 Training Loss is 36873.460\n",
      "Epoch is 14 Training Loss is 36855.692\n",
      "Epoch is 15 Training Loss is 36860.133\n",
      "Epoch is 16 Training Loss is 36834.638\n",
      "Epoch is 17 Training Loss is 36840.822\n",
      "Epoch is 18 Training Loss is 36845.110\n",
      "Epoch is 19 Training Loss is 36860.785\n",
      "Epoch is 20 Training Loss is 36833.841\n",
      "Epoch is 21 Training Loss is 36837.009\n",
      "Epoch is 22 Training Loss is 36817.197\n",
      "Epoch is 23 Training Loss is 36833.289\n",
      "Epoch is 24 Training Loss is 36810.749\n",
      "Epoch is 25 Training Loss is 36841.959\n",
      "Epoch is 26 Training Loss is 36840.476\n",
      "Epoch is 27 Training Loss is 36831.222\n",
      "Epoch is 28 Training Loss is 36818.617\n",
      "Epoch is 29 Training Loss is 36815.719\n",
      "Epoch is 30 Training Loss is 36808.826\n",
      "Epoch is 31 Training Loss is 36834.540\n",
      "Epoch is 32 Training Loss is 36812.057\n",
      "Epoch is 33 Training Loss is 36818.107\n",
      "Epoch is 34 Training Loss is 36801.600\n",
      "Epoch is 35 Training Loss is 36814.623\n",
      "Epoch is 36 Training Loss is 36801.298\n",
      "Epoch is 37 Training Loss is 36796.920\n",
      "Epoch is 38 Training Loss is 36806.488\n",
      "Epoch is 39 Training Loss is 36814.499\n",
      "Epoch is 40 Training Loss is 36801.664\n",
      "Epoch is 41 Training Loss is 36801.219\n",
      "Epoch is 42 Training Loss is 36809.943\n",
      "Epoch is 43 Training Loss is 36805.007\n",
      "Epoch is 44 Training Loss is 36802.891\n",
      "Epoch is 45 Training Loss is 36813.260\n",
      "Epoch is 46 Training Loss is 36801.717\n",
      "Epoch is 47 Training Loss is 36801.050\n",
      "Epoch is 48 Training Loss is 36808.178\n",
      "Epoch is 49 Training Loss is 36790.250\n",
      "Epoch is 50 Training Loss is 36795.109\n"
     ]
    }
   ],
   "source": [
    "for i in range(epochs):\n",
    "    epoch_loss = []\n",
    "    for x in range(mnist.train.num_examples // batch_size):\n",
    "        batch = mnist.train.next_batch(batch_size=batch_size)\n",
    "        batch_loss, _ = sess.run([loss, optimizer],\n",
    "                                 feed_dict={inputs:batch[0]+scale*np.random.normal(size=batch[0].shape),\n",
    "                                            targets:batch[0]})\n",
    "        epoch_loss.append(batch_loss)\n",
    "    print('Epoch is %i'%(i+1), 'Training Loss is %.3f'%(sum(epoch_loss)/len(epoch_loss)))"
   ]
  },
  {
   "cell_type": "code",
   "execution_count": 20,
   "metadata": {},
   "outputs": [
    {
     "data": {
      "image/png": "[encoded data removed]",
      "text/plain": [
       "<Figure size 1440x576 with 10 Axes>"
      ]
     },
     "metadata": {
      "needs_background": "light"
     },
     "output_type": "display_data"
    }
   ],
   "source": [
    "fig, ax = plt.subplots(nrows=2, ncols=5, sharex=True, sharey=True, figsize=(20, 8))\n",
    "test_imgs = mnist.test.images[:5]\n",
    "test_imgs_with_noise = test_imgs + scale*np.random.normal(size=test_imgs.shape)\n",
    "reconstructed, compressed = sess.run([outputs, hidden], \n",
    "                                     feed_dict={inputs:test_imgs_with_noise,\n",
    "                                                targets:test_imgs})\n",
    "for image, row in zip([test_imgs_with_noise, reconstructed], ax):\n",
    "    for img, ax in zip(image, row):\n",
    "        ax.imshow(img.reshape((28, 28)))\n",
    "        ax.get_xaxis().set_visible(False)\n",
    "        ax.get_yaxis().set_visible(False)\n",
    "fig.tight_layout(pad=0.1)"
   ]
  },
  {
   "cell_type": "code",
   "execution_count": 37,
   "metadata": {},
   "outputs": [
    {
     "data": {
      "image/png": "[encoded data removed]",
      "text/plain": [
       "<Figure size 1440x288 with 5 Axes>"
      ]
     },
     "metadata": {
      "needs_background": "light"
     },
     "output_type": "display_data"
    }
   ],
   "source": [
    "# 绘制出中间的压缩的向量的图像\n",
    "fig, axes = plt.subplots(nrows=1, ncols=5, sharex=True, sharey=True, figsize=(20, 4))\n",
    "for img, ax in zip(compressed, axes):\n",
    "    ax.imshow(img.reshape((8, 8)))\n",
    "    ax.get_xaxis().set_visible(False)\n",
    "    ax.get_yaxis().set_visible(False)\n",
    "fig.tight_layout(pad=0)"
   ]
  }
 ],
 "metadata": {
  "kernelspec": {
   "display_name": "python36",
   "language": "python",
   "name": "python36"
  },
  "language_info": {
   "codemirror_mode": {
    "name": "ipython",
    "version": 3
   },
   "file_extension": ".py",
   "mimetype": "text/x-python",
   "name": "python",
   "nbconvert_exporter": "python",
   "pygments_lexer": "ipython3",
   "version": "3.6.10"
  }
 },
 "nbformat": 4,
 "nbformat_minor": 2
}
